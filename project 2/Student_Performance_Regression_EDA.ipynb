{
  "nbformat": 4,
  "nbformat_minor": 0,
  "metadata": {
    "colab": {
      "name": "Student Performance Regression EDA.ipynb",
      "provenance": [],
      "collapsed_sections": []
    },
    "kernelspec": {
      "name": "python3",
      "display_name": "Python 3"
    }
  },
  "cells": [
    {
      "cell_type": "markdown",
      "metadata": {
        "id": "yX5APeAQbJno",
        "colab_type": "text"
      },
      "source": [
        "# Student Performance EDA Regression\n",
        "Melakukan pemanggilan file .csv dari [repositori github](https://github.com/nekonynn/FGABatch2_Big-Data/tree/master/student) yang telah didapat dari [website UCI](https://archive.ics.uci.edu/ml/datasets/student+performance)"
      ]
    },
    {
      "cell_type": "code",
      "metadata": {
        "id": "13mFw2z5bOZx",
        "colab_type": "code",
        "outputId": "71093759-fc62-42be-da7e-45b224b42f5c",
        "colab": {
          "base_uri": "https://localhost:8080/",
          "height": 419
        }
      },
      "source": [
        "import pandas as pd\n",
        "import numpy as np\n",
        "from sklearn.linear_model import LinearRegression\n",
        "\n",
        "url_mat = 'https://raw.githubusercontent.com/nekonynn/FGABatch2_Big-Data/master/student/student-mat.csv'\n",
        "url_por = 'https://raw.githubusercontent.com/nekonynn/FGABatch2_Big-Data/master/student/student-por.csv'\n",
        "df_mat = pd.read_csv(url_mat, sep=\";\", usecols = ['absences','G1','G2','G3'])\n",
        "df_por = pd.read_csv(url_por, sep=\";\", usecols = ['absences','G1','G2','G3'])\n",
        "df_mat"
      ],
      "execution_count": 0,
      "outputs": [
        {
          "output_type": "execute_result",
          "data": {
            "text/html": [
              "<div>\n",
              "<style scoped>\n",
              "    .dataframe tbody tr th:only-of-type {\n",
              "        vertical-align: middle;\n",
              "    }\n",
              "\n",
              "    .dataframe tbody tr th {\n",
              "        vertical-align: top;\n",
              "    }\n",
              "\n",
              "    .dataframe thead th {\n",
              "        text-align: right;\n",
              "    }\n",
              "</style>\n",
              "<table border=\"1\" class=\"dataframe\">\n",
              "  <thead>\n",
              "    <tr style=\"text-align: right;\">\n",
              "      <th></th>\n",
              "      <th>absences</th>\n",
              "      <th>G1</th>\n",
              "      <th>G2</th>\n",
              "      <th>G3</th>\n",
              "    </tr>\n",
              "  </thead>\n",
              "  <tbody>\n",
              "    <tr>\n",
              "      <th>0</th>\n",
              "      <td>6</td>\n",
              "      <td>5</td>\n",
              "      <td>6</td>\n",
              "      <td>6</td>\n",
              "    </tr>\n",
              "    <tr>\n",
              "      <th>1</th>\n",
              "      <td>4</td>\n",
              "      <td>5</td>\n",
              "      <td>5</td>\n",
              "      <td>6</td>\n",
              "    </tr>\n",
              "    <tr>\n",
              "      <th>2</th>\n",
              "      <td>10</td>\n",
              "      <td>7</td>\n",
              "      <td>8</td>\n",
              "      <td>10</td>\n",
              "    </tr>\n",
              "    <tr>\n",
              "      <th>3</th>\n",
              "      <td>2</td>\n",
              "      <td>15</td>\n",
              "      <td>14</td>\n",
              "      <td>15</td>\n",
              "    </tr>\n",
              "    <tr>\n",
              "      <th>4</th>\n",
              "      <td>4</td>\n",
              "      <td>6</td>\n",
              "      <td>10</td>\n",
              "      <td>10</td>\n",
              "    </tr>\n",
              "    <tr>\n",
              "      <th>...</th>\n",
              "      <td>...</td>\n",
              "      <td>...</td>\n",
              "      <td>...</td>\n",
              "      <td>...</td>\n",
              "    </tr>\n",
              "    <tr>\n",
              "      <th>390</th>\n",
              "      <td>11</td>\n",
              "      <td>9</td>\n",
              "      <td>9</td>\n",
              "      <td>9</td>\n",
              "    </tr>\n",
              "    <tr>\n",
              "      <th>391</th>\n",
              "      <td>3</td>\n",
              "      <td>14</td>\n",
              "      <td>16</td>\n",
              "      <td>16</td>\n",
              "    </tr>\n",
              "    <tr>\n",
              "      <th>392</th>\n",
              "      <td>3</td>\n",
              "      <td>10</td>\n",
              "      <td>8</td>\n",
              "      <td>7</td>\n",
              "    </tr>\n",
              "    <tr>\n",
              "      <th>393</th>\n",
              "      <td>0</td>\n",
              "      <td>11</td>\n",
              "      <td>12</td>\n",
              "      <td>10</td>\n",
              "    </tr>\n",
              "    <tr>\n",
              "      <th>394</th>\n",
              "      <td>5</td>\n",
              "      <td>8</td>\n",
              "      <td>9</td>\n",
              "      <td>9</td>\n",
              "    </tr>\n",
              "  </tbody>\n",
              "</table>\n",
              "<p>395 rows × 4 columns</p>\n",
              "</div>"
            ],
            "text/plain": [
              "     absences  G1  G2  G3\n",
              "0           6   5   6   6\n",
              "1           4   5   5   6\n",
              "2          10   7   8  10\n",
              "3           2  15  14  15\n",
              "4           4   6  10  10\n",
              "..        ...  ..  ..  ..\n",
              "390        11   9   9   9\n",
              "391         3  14  16  16\n",
              "392         3  10   8   7\n",
              "393         0  11  12  10\n",
              "394         5   8   9   9\n",
              "\n",
              "[395 rows x 4 columns]"
            ]
          },
          "metadata": {
            "tags": []
          },
          "execution_count": 238
        }
      ]
    },
    {
      "cell_type": "code",
      "metadata": {
        "id": "Bo9SR5umpz0t",
        "colab_type": "code",
        "outputId": "12f10ed1-0663-4200-e7f7-4a4c7f47d065",
        "colab": {
          "base_uri": "https://localhost:8080/",
          "height": 419
        }
      },
      "source": [
        "df_por"
      ],
      "execution_count": 0,
      "outputs": [
        {
          "output_type": "execute_result",
          "data": {
            "text/html": [
              "<div>\n",
              "<style scoped>\n",
              "    .dataframe tbody tr th:only-of-type {\n",
              "        vertical-align: middle;\n",
              "    }\n",
              "\n",
              "    .dataframe tbody tr th {\n",
              "        vertical-align: top;\n",
              "    }\n",
              "\n",
              "    .dataframe thead th {\n",
              "        text-align: right;\n",
              "    }\n",
              "</style>\n",
              "<table border=\"1\" class=\"dataframe\">\n",
              "  <thead>\n",
              "    <tr style=\"text-align: right;\">\n",
              "      <th></th>\n",
              "      <th>absences</th>\n",
              "      <th>G1</th>\n",
              "      <th>G2</th>\n",
              "      <th>G3</th>\n",
              "    </tr>\n",
              "  </thead>\n",
              "  <tbody>\n",
              "    <tr>\n",
              "      <th>0</th>\n",
              "      <td>4</td>\n",
              "      <td>0</td>\n",
              "      <td>11</td>\n",
              "      <td>11</td>\n",
              "    </tr>\n",
              "    <tr>\n",
              "      <th>1</th>\n",
              "      <td>2</td>\n",
              "      <td>9</td>\n",
              "      <td>11</td>\n",
              "      <td>11</td>\n",
              "    </tr>\n",
              "    <tr>\n",
              "      <th>2</th>\n",
              "      <td>6</td>\n",
              "      <td>12</td>\n",
              "      <td>13</td>\n",
              "      <td>12</td>\n",
              "    </tr>\n",
              "    <tr>\n",
              "      <th>3</th>\n",
              "      <td>0</td>\n",
              "      <td>14</td>\n",
              "      <td>14</td>\n",
              "      <td>14</td>\n",
              "    </tr>\n",
              "    <tr>\n",
              "      <th>4</th>\n",
              "      <td>0</td>\n",
              "      <td>11</td>\n",
              "      <td>13</td>\n",
              "      <td>13</td>\n",
              "    </tr>\n",
              "    <tr>\n",
              "      <th>...</th>\n",
              "      <td>...</td>\n",
              "      <td>...</td>\n",
              "      <td>...</td>\n",
              "      <td>...</td>\n",
              "    </tr>\n",
              "    <tr>\n",
              "      <th>644</th>\n",
              "      <td>4</td>\n",
              "      <td>10</td>\n",
              "      <td>11</td>\n",
              "      <td>10</td>\n",
              "    </tr>\n",
              "    <tr>\n",
              "      <th>645</th>\n",
              "      <td>4</td>\n",
              "      <td>15</td>\n",
              "      <td>15</td>\n",
              "      <td>16</td>\n",
              "    </tr>\n",
              "    <tr>\n",
              "      <th>646</th>\n",
              "      <td>6</td>\n",
              "      <td>11</td>\n",
              "      <td>12</td>\n",
              "      <td>9</td>\n",
              "    </tr>\n",
              "    <tr>\n",
              "      <th>647</th>\n",
              "      <td>6</td>\n",
              "      <td>10</td>\n",
              "      <td>10</td>\n",
              "      <td>10</td>\n",
              "    </tr>\n",
              "    <tr>\n",
              "      <th>648</th>\n",
              "      <td>4</td>\n",
              "      <td>10</td>\n",
              "      <td>11</td>\n",
              "      <td>11</td>\n",
              "    </tr>\n",
              "  </tbody>\n",
              "</table>\n",
              "<p>649 rows × 4 columns</p>\n",
              "</div>"
            ],
            "text/plain": [
              "     absences  G1  G2  G3\n",
              "0           4   0  11  11\n",
              "1           2   9  11  11\n",
              "2           6  12  13  12\n",
              "3           0  14  14  14\n",
              "4           0  11  13  13\n",
              "..        ...  ..  ..  ..\n",
              "644         4  10  11  10\n",
              "645         4  15  15  16\n",
              "646         6  11  12   9\n",
              "647         6  10  10  10\n",
              "648         4  10  11  11\n",
              "\n",
              "[649 rows x 4 columns]"
            ]
          },
          "metadata": {
            "tags": []
          },
          "execution_count": 239
        }
      ]
    },
    {
      "cell_type": "markdown",
      "metadata": {
        "id": "oY7p_zcojaiC",
        "colab_type": "text"
      },
      "source": [
        "**Pengecekan data kosong** pada dataset dengan menggunakan referensi di notebook pada [Kaggle](https://www.kaggle.com/fatihbilgin/data-science-bowl-2019-data-visualization)"
      ]
    },
    {
      "cell_type": "code",
      "metadata": {
        "id": "pac7oiPikHVw",
        "colab_type": "code",
        "outputId": "851dc99d-8093-4abe-dca8-bbb33a86d934",
        "colab": {
          "base_uri": "https://localhost:8080/",
          "height": 51
        }
      },
      "source": [
        "print(df_mat.loc[:, df_mat.isnull().any()].isnull().sum())\n",
        "print(df_por.loc[:, df_por.isnull().any()].isnull().sum())"
      ],
      "execution_count": 0,
      "outputs": [
        {
          "output_type": "stream",
          "text": [
            "Series([], dtype: float64)\n",
            "Series([], dtype: float64)\n"
          ],
          "name": "stdout"
        }
      ]
    },
    {
      "cell_type": "markdown",
      "metadata": {
        "id": "VlFlUAnCkZBl",
        "colab_type": "text"
      },
      "source": [
        "Berarti dataset yang digunakan tidak memiliki data yang kosong"
      ]
    },
    {
      "cell_type": "code",
      "metadata": {
        "id": "ORMQdUBQg_Av",
        "colab_type": "code",
        "outputId": "127103db-5e46-4757-d827-b7f87623594a",
        "colab": {
          "base_uri": "https://localhost:8080/",
          "height": 102
        }
      },
      "source": [
        "print(\"Jumlah baris pada Dataset Siswa di pelajaran Matematika: {0} \\nJumlah kolom pada Dataset Siswa di pelajaran Matematika: {1}\\n\".format(df_mat.shape[0], df_mat.shape[1]))\n",
        "print(\"Jumlah baris pada Dataset Siswa di pelajaran Bahasa Portugis: {0} \\nJumlah kolom pada Dataset Siswa di pelajaran Bahasa Portugis: {1}\".format(df_por.shape[0], df_por.shape[1]))"
      ],
      "execution_count": 0,
      "outputs": [
        {
          "output_type": "stream",
          "text": [
            "Jumlah baris pada Dataset Siswa di pelajaran Matematika: 395 \n",
            "Jumlah kolom pada Dataset Siswa di pelajaran Matematika: 4\n",
            "\n",
            "Jumlah baris pada Dataset Siswa di pelajaran Bahasa Portugis: 649 \n",
            "Jumlah kolom pada Dataset Siswa di pelajaran Bahasa Portugis: 4\n"
          ],
          "name": "stdout"
        }
      ]
    },
    {
      "cell_type": "code",
      "metadata": {
        "id": "CTBouuHwjutx",
        "colab_type": "code",
        "outputId": "087dd5b1-5180-4481-8301-8529cc822fc8",
        "colab": {
          "base_uri": "https://localhost:8080/",
          "height": 173
        }
      },
      "source": [
        "df_mat.describe().T"
      ],
      "execution_count": 0,
      "outputs": [
        {
          "output_type": "execute_result",
          "data": {
            "text/html": [
              "<div>\n",
              "<style scoped>\n",
              "    .dataframe tbody tr th:only-of-type {\n",
              "        vertical-align: middle;\n",
              "    }\n",
              "\n",
              "    .dataframe tbody tr th {\n",
              "        vertical-align: top;\n",
              "    }\n",
              "\n",
              "    .dataframe thead th {\n",
              "        text-align: right;\n",
              "    }\n",
              "</style>\n",
              "<table border=\"1\" class=\"dataframe\">\n",
              "  <thead>\n",
              "    <tr style=\"text-align: right;\">\n",
              "      <th></th>\n",
              "      <th>count</th>\n",
              "      <th>mean</th>\n",
              "      <th>std</th>\n",
              "      <th>min</th>\n",
              "      <th>25%</th>\n",
              "      <th>50%</th>\n",
              "      <th>75%</th>\n",
              "      <th>max</th>\n",
              "    </tr>\n",
              "  </thead>\n",
              "  <tbody>\n",
              "    <tr>\n",
              "      <th>absences</th>\n",
              "      <td>395.0</td>\n",
              "      <td>5.708861</td>\n",
              "      <td>8.003096</td>\n",
              "      <td>0.0</td>\n",
              "      <td>0.0</td>\n",
              "      <td>4.0</td>\n",
              "      <td>8.0</td>\n",
              "      <td>75.0</td>\n",
              "    </tr>\n",
              "    <tr>\n",
              "      <th>G1</th>\n",
              "      <td>395.0</td>\n",
              "      <td>10.908861</td>\n",
              "      <td>3.319195</td>\n",
              "      <td>3.0</td>\n",
              "      <td>8.0</td>\n",
              "      <td>11.0</td>\n",
              "      <td>13.0</td>\n",
              "      <td>19.0</td>\n",
              "    </tr>\n",
              "    <tr>\n",
              "      <th>G2</th>\n",
              "      <td>395.0</td>\n",
              "      <td>10.713924</td>\n",
              "      <td>3.761505</td>\n",
              "      <td>0.0</td>\n",
              "      <td>9.0</td>\n",
              "      <td>11.0</td>\n",
              "      <td>13.0</td>\n",
              "      <td>19.0</td>\n",
              "    </tr>\n",
              "    <tr>\n",
              "      <th>G3</th>\n",
              "      <td>395.0</td>\n",
              "      <td>10.415190</td>\n",
              "      <td>4.581443</td>\n",
              "      <td>0.0</td>\n",
              "      <td>8.0</td>\n",
              "      <td>11.0</td>\n",
              "      <td>14.0</td>\n",
              "      <td>20.0</td>\n",
              "    </tr>\n",
              "  </tbody>\n",
              "</table>\n",
              "</div>"
            ],
            "text/plain": [
              "          count       mean       std  min  25%   50%   75%   max\n",
              "absences  395.0   5.708861  8.003096  0.0  0.0   4.0   8.0  75.0\n",
              "G1        395.0  10.908861  3.319195  3.0  8.0  11.0  13.0  19.0\n",
              "G2        395.0  10.713924  3.761505  0.0  9.0  11.0  13.0  19.0\n",
              "G3        395.0  10.415190  4.581443  0.0  8.0  11.0  14.0  20.0"
            ]
          },
          "metadata": {
            "tags": []
          },
          "execution_count": 242
        }
      ]
    },
    {
      "cell_type": "code",
      "metadata": {
        "id": "ap1fjMImq2Nx",
        "colab_type": "code",
        "outputId": "7d11f9ed-63fe-4951-818b-b8779f91e5d2",
        "colab": {
          "base_uri": "https://localhost:8080/",
          "height": 173
        }
      },
      "source": [
        "df_por.describe().T"
      ],
      "execution_count": 0,
      "outputs": [
        {
          "output_type": "execute_result",
          "data": {
            "text/html": [
              "<div>\n",
              "<style scoped>\n",
              "    .dataframe tbody tr th:only-of-type {\n",
              "        vertical-align: middle;\n",
              "    }\n",
              "\n",
              "    .dataframe tbody tr th {\n",
              "        vertical-align: top;\n",
              "    }\n",
              "\n",
              "    .dataframe thead th {\n",
              "        text-align: right;\n",
              "    }\n",
              "</style>\n",
              "<table border=\"1\" class=\"dataframe\">\n",
              "  <thead>\n",
              "    <tr style=\"text-align: right;\">\n",
              "      <th></th>\n",
              "      <th>count</th>\n",
              "      <th>mean</th>\n",
              "      <th>std</th>\n",
              "      <th>min</th>\n",
              "      <th>25%</th>\n",
              "      <th>50%</th>\n",
              "      <th>75%</th>\n",
              "      <th>max</th>\n",
              "    </tr>\n",
              "  </thead>\n",
              "  <tbody>\n",
              "    <tr>\n",
              "      <th>absences</th>\n",
              "      <td>649.0</td>\n",
              "      <td>3.659476</td>\n",
              "      <td>4.640759</td>\n",
              "      <td>0.0</td>\n",
              "      <td>0.0</td>\n",
              "      <td>2.0</td>\n",
              "      <td>6.0</td>\n",
              "      <td>32.0</td>\n",
              "    </tr>\n",
              "    <tr>\n",
              "      <th>G1</th>\n",
              "      <td>649.0</td>\n",
              "      <td>11.399076</td>\n",
              "      <td>2.745265</td>\n",
              "      <td>0.0</td>\n",
              "      <td>10.0</td>\n",
              "      <td>11.0</td>\n",
              "      <td>13.0</td>\n",
              "      <td>19.0</td>\n",
              "    </tr>\n",
              "    <tr>\n",
              "      <th>G2</th>\n",
              "      <td>649.0</td>\n",
              "      <td>11.570108</td>\n",
              "      <td>2.913639</td>\n",
              "      <td>0.0</td>\n",
              "      <td>10.0</td>\n",
              "      <td>11.0</td>\n",
              "      <td>13.0</td>\n",
              "      <td>19.0</td>\n",
              "    </tr>\n",
              "    <tr>\n",
              "      <th>G3</th>\n",
              "      <td>649.0</td>\n",
              "      <td>11.906009</td>\n",
              "      <td>3.230656</td>\n",
              "      <td>0.0</td>\n",
              "      <td>10.0</td>\n",
              "      <td>12.0</td>\n",
              "      <td>14.0</td>\n",
              "      <td>19.0</td>\n",
              "    </tr>\n",
              "  </tbody>\n",
              "</table>\n",
              "</div>"
            ],
            "text/plain": [
              "          count       mean       std  min   25%   50%   75%   max\n",
              "absences  649.0   3.659476  4.640759  0.0   0.0   2.0   6.0  32.0\n",
              "G1        649.0  11.399076  2.745265  0.0  10.0  11.0  13.0  19.0\n",
              "G2        649.0  11.570108  2.913639  0.0  10.0  11.0  13.0  19.0\n",
              "G3        649.0  11.906009  3.230656  0.0  10.0  12.0  14.0  19.0"
            ]
          },
          "metadata": {
            "tags": []
          },
          "execution_count": 243
        }
      ]
    },
    {
      "cell_type": "markdown",
      "metadata": {
        "id": "Fd0ejxJdywYt",
        "colab_type": "text"
      },
      "source": [
        "### Mengkonversi jumlah ketidakhadiran pada kedua mata pelajaran ke persen kehadiran"
      ]
    },
    {
      "cell_type": "code",
      "metadata": {
        "id": "kIUff_nmq4li",
        "colab_type": "code",
        "colab": {}
      },
      "source": [
        "jml_kehadiran = 93\n",
        "persen_kehadiran_mat = []\n",
        "persen_kehadiran_por = []\n",
        "for jml_tdk_hdr_mat in df_mat['absences']:\n",
        "  persen_kehadiran = ((jml_kehadiran - jml_tdk_hdr_mat) / jml_kehadiran) * 100\n",
        "  persen_kehadiran_mat.append(float(f'{persen_kehadiran:.2f}'))\n",
        "for jml_tdk_hdr_por in df_por['absences']:\n",
        "  persen_kehadiran = ((jml_kehadiran - jml_tdk_hdr_por) / jml_kehadiran) * 100\n",
        "  persen_kehadiran_por.append(float(f'{persen_kehadiran:.2f}'))"
      ],
      "execution_count": 0,
      "outputs": []
    },
    {
      "cell_type": "markdown",
      "metadata": {
        "id": "Q99KxZ9czH8Q",
        "colab_type": "text"
      },
      "source": [
        "### Menambahkan data persen kehadiran ke dalam dataframe baru"
      ]
    },
    {
      "cell_type": "code",
      "metadata": {
        "id": "OTYdy77iu546",
        "colab_type": "code",
        "outputId": "d5b72dca-90a7-464b-d08f-52b8a6083ce6",
        "colab": {
          "base_uri": "https://localhost:8080/",
          "height": 419
        }
      },
      "source": [
        "df_mat_n = df_mat.assign(presences = persen_kehadiran_mat)\n",
        "df_mat_n"
      ],
      "execution_count": 0,
      "outputs": [
        {
          "output_type": "execute_result",
          "data": {
            "text/html": [
              "<div>\n",
              "<style scoped>\n",
              "    .dataframe tbody tr th:only-of-type {\n",
              "        vertical-align: middle;\n",
              "    }\n",
              "\n",
              "    .dataframe tbody tr th {\n",
              "        vertical-align: top;\n",
              "    }\n",
              "\n",
              "    .dataframe thead th {\n",
              "        text-align: right;\n",
              "    }\n",
              "</style>\n",
              "<table border=\"1\" class=\"dataframe\">\n",
              "  <thead>\n",
              "    <tr style=\"text-align: right;\">\n",
              "      <th></th>\n",
              "      <th>absences</th>\n",
              "      <th>G1</th>\n",
              "      <th>G2</th>\n",
              "      <th>G3</th>\n",
              "      <th>presences</th>\n",
              "    </tr>\n",
              "  </thead>\n",
              "  <tbody>\n",
              "    <tr>\n",
              "      <th>0</th>\n",
              "      <td>6</td>\n",
              "      <td>5</td>\n",
              "      <td>6</td>\n",
              "      <td>6</td>\n",
              "      <td>93.55</td>\n",
              "    </tr>\n",
              "    <tr>\n",
              "      <th>1</th>\n",
              "      <td>4</td>\n",
              "      <td>5</td>\n",
              "      <td>5</td>\n",
              "      <td>6</td>\n",
              "      <td>95.70</td>\n",
              "    </tr>\n",
              "    <tr>\n",
              "      <th>2</th>\n",
              "      <td>10</td>\n",
              "      <td>7</td>\n",
              "      <td>8</td>\n",
              "      <td>10</td>\n",
              "      <td>89.25</td>\n",
              "    </tr>\n",
              "    <tr>\n",
              "      <th>3</th>\n",
              "      <td>2</td>\n",
              "      <td>15</td>\n",
              "      <td>14</td>\n",
              "      <td>15</td>\n",
              "      <td>97.85</td>\n",
              "    </tr>\n",
              "    <tr>\n",
              "      <th>4</th>\n",
              "      <td>4</td>\n",
              "      <td>6</td>\n",
              "      <td>10</td>\n",
              "      <td>10</td>\n",
              "      <td>95.70</td>\n",
              "    </tr>\n",
              "    <tr>\n",
              "      <th>...</th>\n",
              "      <td>...</td>\n",
              "      <td>...</td>\n",
              "      <td>...</td>\n",
              "      <td>...</td>\n",
              "      <td>...</td>\n",
              "    </tr>\n",
              "    <tr>\n",
              "      <th>390</th>\n",
              "      <td>11</td>\n",
              "      <td>9</td>\n",
              "      <td>9</td>\n",
              "      <td>9</td>\n",
              "      <td>88.17</td>\n",
              "    </tr>\n",
              "    <tr>\n",
              "      <th>391</th>\n",
              "      <td>3</td>\n",
              "      <td>14</td>\n",
              "      <td>16</td>\n",
              "      <td>16</td>\n",
              "      <td>96.77</td>\n",
              "    </tr>\n",
              "    <tr>\n",
              "      <th>392</th>\n",
              "      <td>3</td>\n",
              "      <td>10</td>\n",
              "      <td>8</td>\n",
              "      <td>7</td>\n",
              "      <td>96.77</td>\n",
              "    </tr>\n",
              "    <tr>\n",
              "      <th>393</th>\n",
              "      <td>0</td>\n",
              "      <td>11</td>\n",
              "      <td>12</td>\n",
              "      <td>10</td>\n",
              "      <td>100.00</td>\n",
              "    </tr>\n",
              "    <tr>\n",
              "      <th>394</th>\n",
              "      <td>5</td>\n",
              "      <td>8</td>\n",
              "      <td>9</td>\n",
              "      <td>9</td>\n",
              "      <td>94.62</td>\n",
              "    </tr>\n",
              "  </tbody>\n",
              "</table>\n",
              "<p>395 rows × 5 columns</p>\n",
              "</div>"
            ],
            "text/plain": [
              "     absences  G1  G2  G3  presences\n",
              "0           6   5   6   6      93.55\n",
              "1           4   5   5   6      95.70\n",
              "2          10   7   8  10      89.25\n",
              "3           2  15  14  15      97.85\n",
              "4           4   6  10  10      95.70\n",
              "..        ...  ..  ..  ..        ...\n",
              "390        11   9   9   9      88.17\n",
              "391         3  14  16  16      96.77\n",
              "392         3  10   8   7      96.77\n",
              "393         0  11  12  10     100.00\n",
              "394         5   8   9   9      94.62\n",
              "\n",
              "[395 rows x 5 columns]"
            ]
          },
          "metadata": {
            "tags": []
          },
          "execution_count": 245
        }
      ]
    },
    {
      "cell_type": "code",
      "metadata": {
        "id": "F0RV9QJ4xzxA",
        "colab_type": "code",
        "outputId": "c8dbe1bd-f898-4953-8630-273c1b67fa6f",
        "colab": {
          "base_uri": "https://localhost:8080/",
          "height": 419
        }
      },
      "source": [
        "df_por_n = df_por.assign(presences = persen_kehadiran_por)\n",
        "df_por_n"
      ],
      "execution_count": 0,
      "outputs": [
        {
          "output_type": "execute_result",
          "data": {
            "text/html": [
              "<div>\n",
              "<style scoped>\n",
              "    .dataframe tbody tr th:only-of-type {\n",
              "        vertical-align: middle;\n",
              "    }\n",
              "\n",
              "    .dataframe tbody tr th {\n",
              "        vertical-align: top;\n",
              "    }\n",
              "\n",
              "    .dataframe thead th {\n",
              "        text-align: right;\n",
              "    }\n",
              "</style>\n",
              "<table border=\"1\" class=\"dataframe\">\n",
              "  <thead>\n",
              "    <tr style=\"text-align: right;\">\n",
              "      <th></th>\n",
              "      <th>absences</th>\n",
              "      <th>G1</th>\n",
              "      <th>G2</th>\n",
              "      <th>G3</th>\n",
              "      <th>presences</th>\n",
              "    </tr>\n",
              "  </thead>\n",
              "  <tbody>\n",
              "    <tr>\n",
              "      <th>0</th>\n",
              "      <td>4</td>\n",
              "      <td>0</td>\n",
              "      <td>11</td>\n",
              "      <td>11</td>\n",
              "      <td>95.70</td>\n",
              "    </tr>\n",
              "    <tr>\n",
              "      <th>1</th>\n",
              "      <td>2</td>\n",
              "      <td>9</td>\n",
              "      <td>11</td>\n",
              "      <td>11</td>\n",
              "      <td>97.85</td>\n",
              "    </tr>\n",
              "    <tr>\n",
              "      <th>2</th>\n",
              "      <td>6</td>\n",
              "      <td>12</td>\n",
              "      <td>13</td>\n",
              "      <td>12</td>\n",
              "      <td>93.55</td>\n",
              "    </tr>\n",
              "    <tr>\n",
              "      <th>3</th>\n",
              "      <td>0</td>\n",
              "      <td>14</td>\n",
              "      <td>14</td>\n",
              "      <td>14</td>\n",
              "      <td>100.00</td>\n",
              "    </tr>\n",
              "    <tr>\n",
              "      <th>4</th>\n",
              "      <td>0</td>\n",
              "      <td>11</td>\n",
              "      <td>13</td>\n",
              "      <td>13</td>\n",
              "      <td>100.00</td>\n",
              "    </tr>\n",
              "    <tr>\n",
              "      <th>...</th>\n",
              "      <td>...</td>\n",
              "      <td>...</td>\n",
              "      <td>...</td>\n",
              "      <td>...</td>\n",
              "      <td>...</td>\n",
              "    </tr>\n",
              "    <tr>\n",
              "      <th>644</th>\n",
              "      <td>4</td>\n",
              "      <td>10</td>\n",
              "      <td>11</td>\n",
              "      <td>10</td>\n",
              "      <td>95.70</td>\n",
              "    </tr>\n",
              "    <tr>\n",
              "      <th>645</th>\n",
              "      <td>4</td>\n",
              "      <td>15</td>\n",
              "      <td>15</td>\n",
              "      <td>16</td>\n",
              "      <td>95.70</td>\n",
              "    </tr>\n",
              "    <tr>\n",
              "      <th>646</th>\n",
              "      <td>6</td>\n",
              "      <td>11</td>\n",
              "      <td>12</td>\n",
              "      <td>9</td>\n",
              "      <td>93.55</td>\n",
              "    </tr>\n",
              "    <tr>\n",
              "      <th>647</th>\n",
              "      <td>6</td>\n",
              "      <td>10</td>\n",
              "      <td>10</td>\n",
              "      <td>10</td>\n",
              "      <td>93.55</td>\n",
              "    </tr>\n",
              "    <tr>\n",
              "      <th>648</th>\n",
              "      <td>4</td>\n",
              "      <td>10</td>\n",
              "      <td>11</td>\n",
              "      <td>11</td>\n",
              "      <td>95.70</td>\n",
              "    </tr>\n",
              "  </tbody>\n",
              "</table>\n",
              "<p>649 rows × 5 columns</p>\n",
              "</div>"
            ],
            "text/plain": [
              "     absences  G1  G2  G3  presences\n",
              "0           4   0  11  11      95.70\n",
              "1           2   9  11  11      97.85\n",
              "2           6  12  13  12      93.55\n",
              "3           0  14  14  14     100.00\n",
              "4           0  11  13  13     100.00\n",
              "..        ...  ..  ..  ..        ...\n",
              "644         4  10  11  10      95.70\n",
              "645         4  15  15  16      95.70\n",
              "646         6  11  12   9      93.55\n",
              "647         6  10  10  10      93.55\n",
              "648         4  10  11  11      95.70\n",
              "\n",
              "[649 rows x 5 columns]"
            ]
          },
          "metadata": {
            "tags": []
          },
          "execution_count": 246
        }
      ]
    },
    {
      "cell_type": "markdown",
      "metadata": {
        "id": "UUbCVSh52pNj",
        "colab_type": "text"
      },
      "source": [
        "### Menampilkan statistik tingkat kehadiran untuk DataFrame untuk pelajaran Bahasa Portugis"
      ]
    },
    {
      "cell_type": "code",
      "metadata": {
        "id": "dhloJIPvzQba",
        "colab_type": "code",
        "outputId": "9cacf9b1-0287-47b6-e4cb-b95a9f742e87",
        "colab": {
          "base_uri": "https://localhost:8080/",
          "height": 204
        }
      },
      "source": [
        "df_por_n.describe().T"
      ],
      "execution_count": 0,
      "outputs": [
        {
          "output_type": "execute_result",
          "data": {
            "text/html": [
              "<div>\n",
              "<style scoped>\n",
              "    .dataframe tbody tr th:only-of-type {\n",
              "        vertical-align: middle;\n",
              "    }\n",
              "\n",
              "    .dataframe tbody tr th {\n",
              "        vertical-align: top;\n",
              "    }\n",
              "\n",
              "    .dataframe thead th {\n",
              "        text-align: right;\n",
              "    }\n",
              "</style>\n",
              "<table border=\"1\" class=\"dataframe\">\n",
              "  <thead>\n",
              "    <tr style=\"text-align: right;\">\n",
              "      <th></th>\n",
              "      <th>count</th>\n",
              "      <th>mean</th>\n",
              "      <th>std</th>\n",
              "      <th>min</th>\n",
              "      <th>25%</th>\n",
              "      <th>50%</th>\n",
              "      <th>75%</th>\n",
              "      <th>max</th>\n",
              "    </tr>\n",
              "  </thead>\n",
              "  <tbody>\n",
              "    <tr>\n",
              "      <th>absences</th>\n",
              "      <td>649.0</td>\n",
              "      <td>3.659476</td>\n",
              "      <td>4.640759</td>\n",
              "      <td>0.00</td>\n",
              "      <td>0.00</td>\n",
              "      <td>2.00</td>\n",
              "      <td>6.0</td>\n",
              "      <td>32.0</td>\n",
              "    </tr>\n",
              "    <tr>\n",
              "      <th>G1</th>\n",
              "      <td>649.0</td>\n",
              "      <td>11.399076</td>\n",
              "      <td>2.745265</td>\n",
              "      <td>0.00</td>\n",
              "      <td>10.00</td>\n",
              "      <td>11.00</td>\n",
              "      <td>13.0</td>\n",
              "      <td>19.0</td>\n",
              "    </tr>\n",
              "    <tr>\n",
              "      <th>G2</th>\n",
              "      <td>649.0</td>\n",
              "      <td>11.570108</td>\n",
              "      <td>2.913639</td>\n",
              "      <td>0.00</td>\n",
              "      <td>10.00</td>\n",
              "      <td>11.00</td>\n",
              "      <td>13.0</td>\n",
              "      <td>19.0</td>\n",
              "    </tr>\n",
              "    <tr>\n",
              "      <th>G3</th>\n",
              "      <td>649.0</td>\n",
              "      <td>11.906009</td>\n",
              "      <td>3.230656</td>\n",
              "      <td>0.00</td>\n",
              "      <td>10.00</td>\n",
              "      <td>12.00</td>\n",
              "      <td>14.0</td>\n",
              "      <td>19.0</td>\n",
              "    </tr>\n",
              "    <tr>\n",
              "      <th>presences</th>\n",
              "      <td>649.0</td>\n",
              "      <td>96.065578</td>\n",
              "      <td>4.989478</td>\n",
              "      <td>65.59</td>\n",
              "      <td>93.55</td>\n",
              "      <td>97.85</td>\n",
              "      <td>100.0</td>\n",
              "      <td>100.0</td>\n",
              "    </tr>\n",
              "  </tbody>\n",
              "</table>\n",
              "</div>"
            ],
            "text/plain": [
              "           count       mean       std    min    25%    50%    75%    max\n",
              "absences   649.0   3.659476  4.640759   0.00   0.00   2.00    6.0   32.0\n",
              "G1         649.0  11.399076  2.745265   0.00  10.00  11.00   13.0   19.0\n",
              "G2         649.0  11.570108  2.913639   0.00  10.00  11.00   13.0   19.0\n",
              "G3         649.0  11.906009  3.230656   0.00  10.00  12.00   14.0   19.0\n",
              "presences  649.0  96.065578  4.989478  65.59  93.55  97.85  100.0  100.0"
            ]
          },
          "metadata": {
            "tags": []
          },
          "execution_count": 247
        }
      ]
    },
    {
      "cell_type": "code",
      "metadata": {
        "id": "d6gIb5ofzfM5",
        "colab_type": "code",
        "outputId": "c455c482-c44a-4514-bf43-c481759bd2f6",
        "colab": {
          "base_uri": "https://localhost:8080/",
          "height": 442
        }
      },
      "source": [
        "df_por_n['presences'].value_counts()"
      ],
      "execution_count": 0,
      "outputs": [
        {
          "output_type": "execute_result",
          "data": {
            "text/plain": [
              "100.00    244\n",
              "97.85     110\n",
              "95.70      93\n",
              "93.55      49\n",
              "91.40      42\n",
              "89.25      21\n",
              "87.10      12\n",
              "98.92      12\n",
              "94.62      12\n",
              "82.80      10\n",
              "84.95       8\n",
              "96.77       7\n",
              "90.32       7\n",
              "88.17       5\n",
              "80.65       3\n",
              "92.47       3\n",
              "77.42       2\n",
              "76.34       2\n",
              "83.87       2\n",
              "74.19       1\n",
              "67.74       1\n",
              "86.02       1\n",
              "72.04       1\n",
              "65.59       1\n",
              "Name: presences, dtype: int64"
            ]
          },
          "metadata": {
            "tags": []
          },
          "execution_count": 248
        }
      ]
    },
    {
      "cell_type": "markdown",
      "metadata": {
        "id": "4TErqZpn5Gkp",
        "colab_type": "text"
      },
      "source": [
        "### Mengelompokkan masing-masing data berdasarkan presensi pada mata pelajaran bahasa Portugis"
      ]
    },
    {
      "cell_type": "code",
      "metadata": {
        "id": "XOcFVnUn03Xu",
        "colab_type": "code",
        "colab": {}
      },
      "source": [
        "kehadiran_por = []\n",
        "nilai_akhir_por = []\n",
        "\n",
        "## List yang berisi absensi 100%\n",
        "list_100 = []\n",
        "## List yang berisi >= 90% & < 100%\n",
        "list_90 = []\n",
        "## List yang berisi >= 80% & < 90%\n",
        "list_80 = []\n",
        "## List yang berisi < 80%\n",
        "list_u80 = []\n",
        "\n",
        "## List yang berisi nilai 0 < x < 5\n",
        "\n",
        "for index, row in df_por_n.iterrows():\n",
        "  presence = row['presences']\n",
        "  G3 = row['G3']\n",
        "  if presence == 100:\n",
        "    list_100.append(presence)\n",
        "    kehadiran_por.append(4)\n",
        "  elif presence >= 90 and presence < 100:\n",
        "    list_90.append(presence)\n",
        "    kehadiran_por.append(3)\n",
        "  elif presence >= 80 and presence < 90:\n",
        "    list_80.append(presence)\n",
        "    kehadiran_por.append(2)\n",
        "  elif presence < 80:\n",
        "    list_u80.append(presence)\n",
        "    kehadiran_por.append(1)\n",
        "\n",
        "  if G3 >= 0 and G3 <= 5:\n",
        "    nilai_akhir_por.append(1)\n",
        "  elif G3 >= 6 and G3 <= 10:\n",
        "    nilai_akhir_por.append(2)\n",
        "  elif G3 >= 11 and G3 <= 15:\n",
        "    nilai_akhir_por.append(3)\n",
        "  elif G3 >= 16 and G3 <= 20:\n",
        "    nilai_akhir_por.append(4)"
      ],
      "execution_count": 0,
      "outputs": []
    },
    {
      "cell_type": "markdown",
      "metadata": {
        "id": "iZRk2liI--hM",
        "colab_type": "text"
      },
      "source": [
        "### Menampilkan grafik pie untuk persentase kehadiran siswa pada pelajaran bahasa Portugis"
      ]
    },
    {
      "cell_type": "code",
      "metadata": {
        "id": "k4fk6cLt3asj",
        "colab_type": "code",
        "outputId": "bb27bd08-7768-4c57-82e3-b24997dca76a",
        "colab": {
          "base_uri": "https://localhost:8080/",
          "height": 264
        }
      },
      "source": [
        "import matplotlib.pyplot as plt\n",
        "\n",
        "# Data to plot\n",
        "labels = '100%', '90% <= x < 100%', '80% <= x < 90%', '< 80%'\n",
        "sizes = [len(list_100), len(list_90), len(list_80), len(list_u80)]\n",
        "colors = ['gold', 'yellowgreen', 'lightcoral', 'lightskyblue']\n",
        "explode = (0.1, 0, 0, 0)  # explode 1st slice\n",
        "\n",
        "# Plot\n",
        "plt.pie(sizes, explode=explode, labels=labels, colors=colors,\n",
        "autopct='%1.1f%%', shadow=True, startangle=140)\n",
        "\n",
        "plt.title('Tingkat kehadiran siswa pada pelajaran bahasa Portugis')\n",
        "plt.axis('equal')\n",
        "plt.show()"
      ],
      "execution_count": 0,
      "outputs": [
        {
          "output_type": "display_data",
          "data": {
            "image/png": "[encoded data removed]",
            "text/plain": [
              "<Figure size 432x288 with 1 Axes>"
            ]
          },
          "metadata": {
            "tags": []
          }
        }
      ]
    },
    {
      "cell_type": "markdown",
      "metadata": {
        "id": "qkKHz_zkH5NW",
        "colab_type": "text"
      },
      "source": [
        "#### Dapat disimpulkan siswa dengan tingkat kehadiran di atas 90% pada pelajaran bahasa Portugis sebanyak **89.2% dari 649 siswa** atau **579 siswa**"
      ]
    },
    {
      "cell_type": "markdown",
      "metadata": {
        "id": "iKM6j3R38zsi",
        "colab_type": "text"
      },
      "source": [
        "### Menampilkan grafik korelasi"
      ]
    },
    {
      "cell_type": "code",
      "metadata": {
        "id": "MExfm6iS8rLZ",
        "colab_type": "code",
        "outputId": "527d2aea-d03c-4859-940c-005836cc2781",
        "colab": {
          "base_uri": "https://localhost:8080/",
          "height": 299
        }
      },
      "source": [
        "import matplotlib.pyplot as plt\n",
        "import numpy as np\n",
        "import pandas as pd\n",
        "\n",
        "df_por_all = pd.read_csv(url_por, sep=\";\")\n",
        "df_por_all = df_por_all.assign(presences_percent = persen_kehadiran_por, presences = kehadiran_por, grades = nilai_akhir_por)\n",
        "\n",
        "sns.set_style('darkgrid')\n",
        "sns.countplot(y='G3', hue='studytime', data=df_por_all, palette='rainbow')\n",
        "plt.title('Korelasi Lama Belajar dengan Nilai Akhir Siswa pada pelajaran Bahasa Portugis')\n",
        "plt.legend(['< 2 jam', '2 - 5 jam', '5- 10 jam', '> 10 jam'])\n",
        "plt.xlabel('Jumlah siswa', fontsize=14)\n",
        "plt.ylabel('Nilai siswa', fontsize=14)\n",
        "plt.show()"
      ],
      "execution_count": 0,
      "outputs": [
        {
          "output_type": "display_data",
          "data": {
            "image/png": "[encoded data removed]",
            "text/plain": [
              "<Figure size 432x288 with 1 Axes>"
            ]
          },
          "metadata": {
            "tags": []
          }
        }
      ]
    },
    {
      "cell_type": "markdown",
      "metadata": {
        "id": "pChPiNJsI97E",
        "colab_type": "text"
      },
      "source": [
        "Dapat disimpulkan bahwa **lama belajar** ***di bawah 2 jam*** serta ***2 hingga 5 jam*** cenderung efektif pada **nilai siswa** dengan kategori ***2 (5 hingga 10)*** dan ***3 (11 hingga 15)***. Serta, bahwa **lama belajar** ***2 hingga 5 jam*** serta ***5 hingga 10 jam*** cenderung efektif pada **nilai siswa** dengan kategori ***3 (10 hingga 15)*** dan ***4 (15 hingga 20)***"
      ]
    },
    {
      "cell_type": "markdown",
      "metadata": {
        "id": "9gZWfI-Lg-gp",
        "colab_type": "text"
      },
      "source": [
        "#### Masukkan 2 pelajaran yaitu Portugis & Matematika, ubah ke dalam histogram"
      ]
    },
    {
      "cell_type": "code",
      "metadata": {
        "colab_type": "code",
        "outputId": "321a3ea7-36ec-4fd0-dba3-daafeb05a309",
        "id": "M9Sq0sZ5GfXL",
        "colab": {
          "base_uri": "https://localhost:8080/",
          "height": 299
        }
      },
      "source": [
        "import matplotlib.pyplot as plt\n",
        "import numpy as np\n",
        "import pandas as pd\n",
        "import seaborn as sns\n",
        "\n",
        "df_por_all = pd.read_csv(url_por, sep=\";\")\n",
        "df_por_all = df_por_all.assign(presences_percent = persen_kehadiran_por, presences = kehadiran_por)\n",
        "\n",
        "sns.set_style('darkgrid')\n",
        "sns.countplot(y='presences', hue='health', data=df_por_all, palette='rainbow')\n",
        "# plt.scatter(df_por_all['presences'], df_por_all['health'], color=\"red\", alpha=.5)\n",
        "plt.title('Tingkat Kesehatan dengan Tingkat Kehadiran siswa Bahasa Portugis')\n",
        "plt.legend(['Buruk', 'Cukup buruk', 'Menengah', 'Cukup baik', 'Baik'])\n",
        "plt.xlabel('Jumlah siswa', fontsize=14)\n",
        "plt.ylabel('Tingkat kehadiran', fontsize=14)\n",
        "plt.show()"
      ],
      "execution_count": 0,
      "outputs": [
        {
          "output_type": "display_data",
          "data": {
            "image/png": "[encoded data removed]",
            "text/plain": [
              "<Figure size 432x288 with 1 Axes>"
            ]
          },
          "metadata": {
            "tags": []
          }
        }
      ]
    },
    {
      "cell_type": "markdown",
      "metadata": {
        "id": "upIQvjhSHH8z",
        "colab_type": "text"
      },
      "source": [
        "Dapat disimpulkan bahwa **terdapat hubungan** antara ***tingkat kesehatan siswa*** dengan ***tingkat kehadiran siswa*** sebab jumlah siswa dengan ***tingkat kesehatan menengah hingga cukup baik*** masih lebih tinggi dibandingkan dengan jumlah siswa dengan ***tingkat kesehatan buruk dan cukup buruk*** pada ***tingkat kehadiran 80 persen hingga 100 persen***."
      ]
    },
    {
      "cell_type": "markdown",
      "metadata": {
        "id": "4GSpfXotFZCT",
        "colab_type": "text"
      },
      "source": [
        "### Melakukan multiple linear regression pada nilai harian terhadap nilai akhir siswa pada pelajaran bahasa Portugis"
      ]
    },
    {
      "cell_type": "code",
      "metadata": {
        "id": "Ye85hDen6_ha",
        "colab_type": "code",
        "colab": {}
      },
      "source": [
        "from sklearn.linear_model import LinearRegression\n",
        "import numpy as np\n",
        "from sklearn.model_selection import train_test_split\n",
        "\n",
        "random_seed = 20\n",
        "var_bebas = []\n",
        "x1 = []\n",
        "x2 = []\n",
        "var_terikat = df_por_n['G3']\n",
        "\n",
        "# Memasukkan data pada G1 dan G2 ke dalam array variabel\n",
        "for x in range(df_por_n['G3'].count()):\n",
        "  var_bebas.append([df_por_n['G1'][x], df_por_n['G2'][x]])\n",
        "\n",
        "x_train, x_test, y_train, y_test = train_test_split(var_bebas, var_terikat, test_size=0.2, random_state = random_seed)\n",
        "\n",
        "for x in range(len(x_test)):\n",
        "  x1.append(x_test[x][0])\n",
        "  x2.append(x_test[x][1])\n",
        "\n",
        "x = np.array(x_train)\n",
        "y = np.array(y_train)\n",
        "\n",
        "model = LinearRegression().fit(x, y)"
      ],
      "execution_count": 0,
      "outputs": []
    },
    {
      "cell_type": "markdown",
      "metadata": {
        "id": "EzX4bG9-FQYD",
        "colab_type": "text"
      },
      "source": [
        "### Menampilkan hasil multiple linear regression"
      ]
    },
    {
      "cell_type": "code",
      "metadata": {
        "id": "IXhzacScEFXo",
        "colab_type": "code",
        "outputId": "b71e20ba-be4a-40fb-d6be-aaac6b1a83f2",
        "colab": {
          "base_uri": "https://localhost:8080/",
          "height": 68
        }
      },
      "source": [
        "r_sq = model.score(x, y)\n",
        "print('coefficient of determination:', r_sq)\n",
        "print('intercept:', model.intercept_)\n",
        "print('slope:', model.coef_)"
      ],
      "execution_count": 0,
      "outputs": [
        {
          "output_type": "stream",
          "text": [
            "coefficient of determination: 0.8426579362208593\n",
            "intercept: -0.2599859819478372\n",
            "slope: [0.14630479 0.90551519]\n"
          ],
          "name": "stdout"
        }
      ]
    },
    {
      "cell_type": "markdown",
      "metadata": {
        "id": "uLf-AO0cF68I",
        "colab_type": "text"
      },
      "source": [
        "### Mencoba hasil prediksi menggunakan model Multiple Linear Regression yang telah dibuat"
      ]
    },
    {
      "cell_type": "code",
      "metadata": {
        "id": "L00Be8ufGB8s",
        "colab_type": "code",
        "outputId": "3e72ce56-7df5-4358-d2ad-1fae8f3b01a2",
        "colab": {
          "base_uri": "https://localhost:8080/",
          "height": 1000
        }
      },
      "source": [
        "y_predict = model.predict(x_test)\n",
        "diff_abs = []\n",
        "ar_y_test = np.asarray(y_test)\n",
        "for index in range(len(y_test)):\n",
        "  diff_abs.append(abs(y_predict[index] - ar_y_test[index]))\n",
        "  \n",
        "df_comp = pd.DataFrame(dict(prediksi=y_predict, test=y_test, diff_abs=diff_abs, x1=x1, x2=x2))\n",
        "df_comp = df_comp.sort_values(by=['x1', 'x2'])\n",
        "with pd.option_context('display.max_rows', None, 'display.max_columns', None):  # more options can be specified also\n",
        "    print(df_comp)"
      ],
      "execution_count": 0,
      "outputs": [
        {
          "output_type": "stream",
          "text": [
            "      prediksi  test  diff_abs  x1  x2\n",
            "605   0.471538     0  0.471538   5   0\n",
            "432   6.050934     7  0.949066   6   6\n",
            "500   6.956449     7  0.043551   6   7\n",
            "581   7.861964     8  0.138036   6   8\n",
            "642   8.767480    11  2.232520   6   9\n",
            "175   6.197239     8  1.802761   7   6\n",
            "347   7.102754     8  0.897246   7   7\n",
            "284   8.008269     6  2.008269   7   8\n",
            "632   8.008269     9  0.991731   7   8\n",
            "585   7.249059     8  0.750941   8   7\n",
            "178   8.154574     8  0.154574   8   8\n",
            "18    8.154574     7  1.154574   8   8\n",
            "305   8.154574     9  0.845426   8   8\n",
            "586   8.154574     0  8.154574   8   8\n",
            "522   8.154574     8  0.154574   8   8\n",
            "219   9.060089     8  1.060089   8   9\n",
            "148   9.060089     9  0.060089   8   9\n",
            "421   9.965604    10  0.034396   8  10\n",
            "173   8.300879    10  1.699121   9   8\n",
            "493   9.206394    10  0.793606   9   9\n",
            "528   9.206394     9  0.206394   9   9\n",
            "136   9.206394    11  1.793606   9   9\n",
            "444  10.111909    11  0.888091   9  10\n",
            "576  10.111909    11  0.888091   9  10\n",
            "283  11.017424    10  1.017424   9  11\n",
            "90   11.017424    11  0.017424   9  11\n",
            "540  11.017424    11  0.017424   9  11\n",
            "407  11.922939    12  0.077061   9  12\n",
            "257   8.447183     9  0.552817  10   8\n",
            "476   8.447183     8  0.447183  10   8\n",
            "140   9.352699    10  0.647301  10   9\n",
            "577   9.352699    11  1.647301  10   9\n",
            "52    9.352699     9  0.352699  10   9\n",
            "527   9.352699    10  0.647301  10   9\n",
            "352  10.258214    11  0.741786  10  10\n",
            "290  10.258214    11  0.741786  10  10\n",
            "106  10.258214    10  0.258214  10  10\n",
            "426  10.258214    11  0.741786  10  10\n",
            "613  10.258214    10  0.258214  10  10\n",
            "431  10.258214    10  0.258214  10  10\n",
            "23   10.258214    10  0.258214  10  10\n",
            "105  10.258214    10  0.258214  10  10\n",
            "30   11.163729    11  0.163729  10  11\n",
            "45   11.163729    11  0.163729  10  11\n",
            "24   11.163729    10  1.163729  10  11\n",
            "644  11.163729    10  1.163729  10  11\n",
            "299  12.069244    12  0.069244  10  12\n",
            "191   9.499003    10  0.500997  11   9\n",
            "71    9.499003    10  0.500997  11   9\n",
            "166   9.499003    11  1.500997  11   9\n",
            "207  10.404519    10  0.404519  11  10\n",
            "80   11.310034    12  0.689966  11  11\n",
            "446  11.310034    11  0.310034  11  11\n",
            "607  11.310034    12  0.689966  11  11\n",
            "307  11.310034    14  2.689966  11  11\n",
            "293  12.215549    14  1.784451  11  12\n",
            "94   12.215549    12  0.215549  11  12\n",
            "21   12.215549    12  0.215549  11  12\n",
            "292  12.215549    14  1.784451  11  12\n",
            "402  12.215549    13  0.784451  11  12\n",
            "562  13.121064    12  1.121064  11  13\n",
            "391  13.121064    14  0.878936  11  13\n",
            "477  10.550823    11  0.449177  12  10\n",
            "29   11.456339    12  0.543661  12  11\n",
            "260  11.456339    11  0.456339  12  11\n",
            "544  11.456339    12  0.543661  12  11\n",
            "143  11.456339    11  0.456339  12  11\n",
            "358  12.361854    15  2.638146  12  12\n",
            "395  12.361854    13  0.638146  12  12\n",
            "13   12.361854    13  0.638146  12  12\n",
            "182  12.361854    13  0.638146  12  12\n",
            "366  12.361854    13  0.638146  12  12\n",
            "559  12.361854    13  0.638146  12  12\n",
            "424  12.361854    12  0.361854  12  12\n",
            "591  13.267369    14  0.732631  12  13\n",
            "600  13.267369    14  0.732631  12  13\n",
            "92   13.267369    12  1.267369  12  13\n",
            "599  13.267369    14  0.732631  12  13\n",
            "20   13.267369    14  0.732631  12  13\n",
            "129  12.508159    13  0.491841  13  12\n",
            "461  12.508159    14  1.491841  13  12\n",
            "46   12.508159    13  0.491841  13  12\n",
            "16   13.413674    14  0.586326  13  13\n",
            "261  13.413674    13  0.413674  13  13\n",
            "77   13.413674    13  0.413674  13  13\n",
            "62   13.413674    10  3.413674  13  13\n",
            "313  13.413674    13  0.413674  13  13\n",
            "433  14.319189    14  0.319189  13  14\n",
            "272  14.319189    15  0.680811  13  14\n",
            "377  14.319189    13  1.319189  13  14\n",
            "147  14.319189    14  0.319189  13  14\n",
            "32   14.319189    15  0.680811  13  14\n",
            "456  14.319189    15  0.680811  13  14\n",
            "320  12.654463    13  0.345537  14  12\n",
            "616  13.559979    14  0.440021  14  13\n",
            "187  13.559979    13  0.559979  14  13\n",
            "285  13.559979    12  1.559979  14  13\n",
            "91   13.559979    13  0.559979  14  13\n",
            "121  13.559979    13  0.559979  14  13\n",
            "197  13.559979    14  0.440021  14  13\n",
            "63   13.559979    13  0.559979  14  13\n",
            "119  13.559979    14  0.440021  14  13\n",
            "269  14.465494    15  0.534506  14  14\n",
            "14   14.465494    15  0.534506  14  14\n",
            "10   14.465494    14  0.465494  14  14\n",
            "472  14.465494    16  1.534506  14  14\n",
            "3    14.465494    14  0.465494  14  14\n",
            "258  14.465494    15  0.534506  14  14\n",
            "270  15.371009    15  0.371009  14  15\n",
            "334  15.371009    15  0.371009  14  15\n",
            "221  15.371009    15  0.371009  14  15\n",
            "638  15.371009    16  0.628991  14  15\n",
            "216  15.371009    15  0.371009  14  15\n",
            "412  17.182039    17  0.182039  14  17\n",
            "266  14.611799    14  0.611799  15  14\n",
            "56   14.611799    15  0.388201  15  14\n",
            "57   15.517314    16  0.482686  15  15\n",
            "359  15.517314    17  1.482686  15  15\n",
            "267  15.517314    15  0.517314  15  15\n",
            "31   15.517314    15  0.517314  15  15\n",
            "59   15.663619    16  0.336381  16  15\n",
            "448  16.569134    17  0.430866  16  16\n",
            "348  16.569134    16  0.569134  16  16\n",
            "416  18.380164    18  0.380164  16  18\n",
            "181  17.620954    18  0.379046  17  17\n",
            "337  18.526469    18  0.526469  17  18\n",
            "594  18.672774    18  0.672774  18  18\n",
            "332  18.672774    18  0.672774  18  18\n",
            "606  18.672774    18  0.672774  18  18\n",
            "338  19.578289    19  0.578289  18  19\n"
          ],
          "name": "stdout"
        }
      ]
    },
    {
      "cell_type": "code",
      "metadata": {
        "id": "VFxrZ8CtOn95",
        "colab_type": "code",
        "outputId": "2e88b591-036b-45a9-892d-872efa6df857",
        "colab": {
          "base_uri": "https://localhost:8080/",
          "height": 573
        }
      },
      "source": [
        "from scipy.signal import find_peaks\n",
        "\n",
        "#plt.plot( 'x1', 'y1', data=url_por, marker='', markerfacecolor='blue', markersize=12, color='skyblue', linewidth=4)\n",
        "sns.regplot(x='prediksi', y='x1', data=df_comp)\n",
        "plt.scatter('prediksi', 'x1', data=df_comp, marker='x', color='olive')\n",
        "plt.scatter('test', 'x1', data=df_comp, marker='^', color='blue') \n",
        "plt.title('Perbandingan prediksi dan aktual pada nilai akhir dengan nilai G1 sebagai variabel bebas')\n",
        "plt.ylabel('Nilai Awal (G1)', fontsize=14)\n",
        "plt.show()\n",
        "\n",
        "sns.regplot(x='prediksi', y='x2', data=df_comp)\n",
        "plt.scatter('prediksi', 'x2', data=df_comp, marker='x', color='olive')\n",
        "plt.scatter('test', 'x2', data=df_comp, marker='^', color='blue')\n",
        "plt.title('Perbandingan prediksi dan aktual pada nilai akhir dengan nilai G2 sebagai variabel bebas')\n",
        "plt.legend(['Prediksi', 'Aktual'])\n",
        "plt.ylabel('Nilai Awal (G2)', fontsize=14)\n",
        "plt.show()"
      ],
      "execution_count": 0,
      "outputs": [
        {
          "output_type": "display_data",
          "data": {
            "image/png": "[encoded data removed]",
            "text/plain": [
              "<Figure size 432x288 with 1 Axes>"
            ]
          },
          "metadata": {
            "tags": []
          }
        },
        {
          "output_type": "display_data",
          "data": {
            "image/png": "[encoded data removed]",
            "text/plain": [
              "<Figure size 432x288 with 1 Axes>"
            ]
          },
          "metadata": {
            "tags": []
          }
        }
      ]
    },
    {
      "cell_type": "code",
      "metadata": {
        "id": "GprV7cAcNEr8",
        "colab_type": "code",
        "outputId": "965e308b-4357-4c2f-825e-6f27238daa04",
        "colab": {
          "base_uri": "https://localhost:8080/",
          "height": 68
        }
      },
      "source": [
        "from sklearn import metrics\n",
        "print(\"MAE: \", metrics.mean_absolute_error(y_test, y_predict))\n",
        "print(\"MSE: \", metrics.mean_squared_error(y_test, y_predict))\n",
        "print(\"RMSE: \", np.sqrt(metrics.mean_squared_error(y_test, y_predict)))"
      ],
      "execution_count": 0,
      "outputs": [
        {
          "output_type": "stream",
          "text": [
            "MAE:  0.7654759217611342\n",
            "MSE:  1.3242338489978516\n",
            "RMSE:  1.1507536004713832\n"
          ],
          "name": "stdout"
        }
      ]
    }
  ]
}