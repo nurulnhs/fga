{
 "cells": [
  {
   "cell_type": "markdown",
   "metadata": {},
   "source": [
    "Movies Database"
   ]
  },
  {
   "cell_type": "code",
   "execution_count": 3,
   "metadata": {},
   "outputs": [],
   "source": [
    "# This Python 3 environment comes with many helpful analytics libraries installed\n",
    "# It is defined by the kaggle/python docker image: https://github.com/kaggle/docker-python\n",
    "# For example, here's several helpful packages to load in \n",
    "\n",
    "import numpy as np # linear algebra\n",
    "import pandas as pd # data processing, CSV file I/O (e.g. pd.read_csv)\n",
    "import matplotlib.pyplot as plt #for plotting\n",
    "import seaborn as sea #for visualization\n",
    "\n",
    "# Input data files are available in the \"../input/\" directory.\n",
    "# For example, running this (by clicking run or pressing Shift+Enter) will list the files in the input directory"
   ]
  },
  {
   "cell_type": "code",
   "execution_count": 14,
   "metadata": {},
   "outputs": [],
   "source": [
    "df = pd.read_csv('IMDB-Movie-Data.csv')"
   ]
  },
  {
   "cell_type": "code",
   "execution_count": 18,
   "metadata": {},
   "outputs": [
    {
     "data": {
      "text/html": [
       "<div>\n",
       "<style scoped>\n",
       "    .dataframe tbody tr th:only-of-type {\n",
       "        vertical-align: middle;\n",
       "    }\n",
       "\n",
       "    .dataframe tbody tr th {\n",
       "        vertical-align: top;\n",
       "    }\n",
       "\n",
       "    .dataframe thead th {\n",
       "        text-align: right;\n",
       "    }\n",
       "</style>\n",
       "<table border=\"1\" class=\"dataframe\">\n",
       "  <thead>\n",
       "    <tr style=\"text-align: right;\">\n",
       "      <th></th>\n",
       "      <th>Rank</th>\n",
       "      <th>Title</th>\n",
       "      <th>Genre</th>\n",
       "      <th>Description</th>\n",
       "      <th>Director</th>\n",
       "      <th>Actors</th>\n",
       "      <th>Year</th>\n",
       "      <th>Runtime (Minutes)</th>\n",
       "      <th>Rating</th>\n",
       "      <th>Votes</th>\n",
       "      <th>Revenue (Millions)</th>\n",
       "      <th>Metascore</th>\n",
       "    </tr>\n",
       "  </thead>\n",
       "  <tbody>\n",
       "    <tr>\n",
       "      <th>190</th>\n",
       "      <td>191</td>\n",
       "      <td>The Light Between Oceans</td>\n",
       "      <td>Drama,Romance</td>\n",
       "      <td>A lighthouse keeper and his wife living off th...</td>\n",
       "      <td>Derek Cianfrance</td>\n",
       "      <td>Michael Fassbender, Alicia Vikander, Rachel We...</td>\n",
       "      <td>2016</td>\n",
       "      <td>133</td>\n",
       "      <td>7.2</td>\n",
       "      <td>27382</td>\n",
       "      <td>12.53</td>\n",
       "      <td>60.0</td>\n",
       "    </tr>\n",
       "    <tr>\n",
       "      <th>75</th>\n",
       "      <td>76</td>\n",
       "      <td>Pirates of the Caribbean: At World's End</td>\n",
       "      <td>Action,Adventure,Fantasy</td>\n",
       "      <td>Captain Barbossa, Will Turner and Elizabeth Sw...</td>\n",
       "      <td>Gore Verbinski</td>\n",
       "      <td>Johnny Depp, Orlando Bloom, Keira Knightley,Ge...</td>\n",
       "      <td>2007</td>\n",
       "      <td>169</td>\n",
       "      <td>7.1</td>\n",
       "      <td>498821</td>\n",
       "      <td>309.40</td>\n",
       "      <td>50.0</td>\n",
       "    </tr>\n",
       "    <tr>\n",
       "      <th>445</th>\n",
       "      <td>446</td>\n",
       "      <td>Silent Hill</td>\n",
       "      <td>Adventure,Horror,Mystery</td>\n",
       "      <td>A woman, Rose, goes in search for her adopted ...</td>\n",
       "      <td>Christophe Gans</td>\n",
       "      <td>Radha Mitchell, Laurie Holden, Sean Bean,Debor...</td>\n",
       "      <td>2006</td>\n",
       "      <td>125</td>\n",
       "      <td>6.6</td>\n",
       "      <td>184152</td>\n",
       "      <td>46.98</td>\n",
       "      <td>NaN</td>\n",
       "    </tr>\n",
       "    <tr>\n",
       "      <th>467</th>\n",
       "      <td>468</td>\n",
       "      <td>Enemy</td>\n",
       "      <td>Mystery,Thriller</td>\n",
       "      <td>A man seeks out his exact look-alike after spo...</td>\n",
       "      <td>Denis Villeneuve</td>\n",
       "      <td>Jake Gyllenhaal, Mélanie Laurent, Sarah Gadon,...</td>\n",
       "      <td>2013</td>\n",
       "      <td>91</td>\n",
       "      <td>6.9</td>\n",
       "      <td>111558</td>\n",
       "      <td>1.01</td>\n",
       "      <td>61.0</td>\n",
       "    </tr>\n",
       "    <tr>\n",
       "      <th>462</th>\n",
       "      <td>463</td>\n",
       "      <td>Denial</td>\n",
       "      <td>Biography,Drama</td>\n",
       "      <td>Acclaimed writer and historian Deborah E. Lips...</td>\n",
       "      <td>Mick Jackson</td>\n",
       "      <td>Rachel Weisz, Tom Wilkinson, Timothy Spall, An...</td>\n",
       "      <td>2016</td>\n",
       "      <td>109</td>\n",
       "      <td>6.6</td>\n",
       "      <td>8229</td>\n",
       "      <td>4.07</td>\n",
       "      <td>63.0</td>\n",
       "    </tr>\n",
       "    <tr>\n",
       "      <th>415</th>\n",
       "      <td>416</td>\n",
       "      <td>Tusk</td>\n",
       "      <td>Comedy,Drama,Horror</td>\n",
       "      <td>When podcaster Wallace Bryton goes missing in ...</td>\n",
       "      <td>Kevin Smith</td>\n",
       "      <td>Justin Long, Michael Parks, Haley Joel Osment,...</td>\n",
       "      <td>2014</td>\n",
       "      <td>102</td>\n",
       "      <td>5.4</td>\n",
       "      <td>34546</td>\n",
       "      <td>1.82</td>\n",
       "      <td>55.0</td>\n",
       "    </tr>\n",
       "    <tr>\n",
       "      <th>505</th>\n",
       "      <td>506</td>\n",
       "      <td>City of Tiny Lights</td>\n",
       "      <td>Crime,Drama,Thriller</td>\n",
       "      <td>In the teeming, multicultural metropolis of mo...</td>\n",
       "      <td>Pete Travis</td>\n",
       "      <td>Riz Ahmed, Billie Piper, James Floyd, Cush Jumbo</td>\n",
       "      <td>2016</td>\n",
       "      <td>110</td>\n",
       "      <td>5.7</td>\n",
       "      <td>291</td>\n",
       "      <td>NaN</td>\n",
       "      <td>54.0</td>\n",
       "    </tr>\n",
       "    <tr>\n",
       "      <th>899</th>\n",
       "      <td>900</td>\n",
       "      <td>Bride Wars</td>\n",
       "      <td>Comedy,Romance</td>\n",
       "      <td>Two best friends become rivals when they sched...</td>\n",
       "      <td>Gary Winick</td>\n",
       "      <td>Kate Hudson, Anne Hathaway, Candice Bergen, Br...</td>\n",
       "      <td>2009</td>\n",
       "      <td>89</td>\n",
       "      <td>5.5</td>\n",
       "      <td>83976</td>\n",
       "      <td>58.72</td>\n",
       "      <td>24.0</td>\n",
       "    </tr>\n",
       "    <tr>\n",
       "      <th>31</th>\n",
       "      <td>32</td>\n",
       "      <td>Nocturnal Animals</td>\n",
       "      <td>Drama,Thriller</td>\n",
       "      <td>A wealthy art gallery owner is haunted by her ...</td>\n",
       "      <td>Tom Ford</td>\n",
       "      <td>Amy Adams, Jake Gyllenhaal, Michael Shannon, A...</td>\n",
       "      <td>2016</td>\n",
       "      <td>116</td>\n",
       "      <td>7.5</td>\n",
       "      <td>126030</td>\n",
       "      <td>10.64</td>\n",
       "      <td>67.0</td>\n",
       "    </tr>\n",
       "    <tr>\n",
       "      <th>370</th>\n",
       "      <td>371</td>\n",
       "      <td>Sleight</td>\n",
       "      <td>Action,Drama,Sci-Fi</td>\n",
       "      <td>A young street magician (Jacob Latimore) is le...</td>\n",
       "      <td>J.D. Dillard</td>\n",
       "      <td>Jacob Latimore, Seychelle Gabriel, Dulé Hill, ...</td>\n",
       "      <td>2016</td>\n",
       "      <td>89</td>\n",
       "      <td>6.0</td>\n",
       "      <td>702</td>\n",
       "      <td>3.85</td>\n",
       "      <td>62.0</td>\n",
       "    </tr>\n",
       "  </tbody>\n",
       "</table>\n",
       "</div>"
      ],
      "text/plain": [
       "     Rank                                     Title                     Genre  \\\n",
       "190   191                  The Light Between Oceans             Drama,Romance   \n",
       "75     76  Pirates of the Caribbean: At World's End  Action,Adventure,Fantasy   \n",
       "445   446                               Silent Hill  Adventure,Horror,Mystery   \n",
       "467   468                                     Enemy          Mystery,Thriller   \n",
       "462   463                                    Denial           Biography,Drama   \n",
       "415   416                                      Tusk       Comedy,Drama,Horror   \n",
       "505   506                       City of Tiny Lights      Crime,Drama,Thriller   \n",
       "899   900                                Bride Wars            Comedy,Romance   \n",
       "31     32                         Nocturnal Animals            Drama,Thriller   \n",
       "370   371                                   Sleight       Action,Drama,Sci-Fi   \n",
       "\n",
       "                                           Description          Director  \\\n",
       "190  A lighthouse keeper and his wife living off th...  Derek Cianfrance   \n",
       "75   Captain Barbossa, Will Turner and Elizabeth Sw...    Gore Verbinski   \n",
       "445  A woman, Rose, goes in search for her adopted ...   Christophe Gans   \n",
       "467  A man seeks out his exact look-alike after spo...  Denis Villeneuve   \n",
       "462  Acclaimed writer and historian Deborah E. Lips...      Mick Jackson   \n",
       "415  When podcaster Wallace Bryton goes missing in ...       Kevin Smith   \n",
       "505  In the teeming, multicultural metropolis of mo...       Pete Travis   \n",
       "899  Two best friends become rivals when they sched...       Gary Winick   \n",
       "31   A wealthy art gallery owner is haunted by her ...          Tom Ford   \n",
       "370  A young street magician (Jacob Latimore) is le...      J.D. Dillard   \n",
       "\n",
       "                                                Actors  Year  \\\n",
       "190  Michael Fassbender, Alicia Vikander, Rachel We...  2016   \n",
       "75   Johnny Depp, Orlando Bloom, Keira Knightley,Ge...  2007   \n",
       "445  Radha Mitchell, Laurie Holden, Sean Bean,Debor...  2006   \n",
       "467  Jake Gyllenhaal, Mélanie Laurent, Sarah Gadon,...  2013   \n",
       "462  Rachel Weisz, Tom Wilkinson, Timothy Spall, An...  2016   \n",
       "415  Justin Long, Michael Parks, Haley Joel Osment,...  2014   \n",
       "505   Riz Ahmed, Billie Piper, James Floyd, Cush Jumbo  2016   \n",
       "899  Kate Hudson, Anne Hathaway, Candice Bergen, Br...  2009   \n",
       "31   Amy Adams, Jake Gyllenhaal, Michael Shannon, A...  2016   \n",
       "370  Jacob Latimore, Seychelle Gabriel, Dulé Hill, ...  2016   \n",
       "\n",
       "     Runtime (Minutes)  Rating   Votes  Revenue (Millions)  Metascore  \n",
       "190                133     7.2   27382               12.53       60.0  \n",
       "75                 169     7.1  498821              309.40       50.0  \n",
       "445                125     6.6  184152               46.98        NaN  \n",
       "467                 91     6.9  111558                1.01       61.0  \n",
       "462                109     6.6    8229                4.07       63.0  \n",
       "415                102     5.4   34546                1.82       55.0  \n",
       "505                110     5.7     291                 NaN       54.0  \n",
       "899                 89     5.5   83976               58.72       24.0  \n",
       "31                 116     7.5  126030               10.64       67.0  \n",
       "370                 89     6.0     702                3.85       62.0  "
      ]
     },
     "execution_count": 18,
     "metadata": {},
     "output_type": "execute_result"
    }
   ],
   "source": [
    "df.sample(10)"
   ]
  },
  {
   "cell_type": "code",
   "execution_count": 19,
   "metadata": {},
   "outputs": [
    {
     "data": {
      "text/plain": [
       "<bound method NDFrame.describe of      Rank                    Title                     Genre  \\\n",
       "0       1  Guardians of the Galaxy   Action,Adventure,Sci-Fi   \n",
       "1       2               Prometheus  Adventure,Mystery,Sci-Fi   \n",
       "2       3                    Split           Horror,Thriller   \n",
       "3       4                     Sing   Animation,Comedy,Family   \n",
       "4       5            Suicide Squad  Action,Adventure,Fantasy   \n",
       "..    ...                      ...                       ...   \n",
       "995   996     Secret in Their Eyes       Crime,Drama,Mystery   \n",
       "996   997          Hostel: Part II                    Horror   \n",
       "997   998   Step Up 2: The Streets       Drama,Music,Romance   \n",
       "998   999             Search Party          Adventure,Comedy   \n",
       "999  1000               Nine Lives     Comedy,Family,Fantasy   \n",
       "\n",
       "                                           Description              Director  \\\n",
       "0    A group of intergalactic criminals are forced ...            James Gunn   \n",
       "1    Following clues to the origin of mankind, a te...          Ridley Scott   \n",
       "2    Three girls are kidnapped by a man with a diag...    M. Night Shyamalan   \n",
       "3    In a city of humanoid animals, a hustling thea...  Christophe Lourdelet   \n",
       "4    A secret government agency recruits some of th...            David Ayer   \n",
       "..                                                 ...                   ...   \n",
       "995  A tight-knit team of rising investigators, alo...             Billy Ray   \n",
       "996  Three American college students studying abroa...              Eli Roth   \n",
       "997  Romantic sparks occur between two dance studen...            Jon M. Chu   \n",
       "998  A pair of friends embark on a mission to reuni...        Scot Armstrong   \n",
       "999  A stuffy businessman finds himself trapped ins...      Barry Sonnenfeld   \n",
       "\n",
       "                                                Actors  Year  \\\n",
       "0    Chris Pratt, Vin Diesel, Bradley Cooper, Zoe S...  2014   \n",
       "1    Noomi Rapace, Logan Marshall-Green, Michael Fa...  2012   \n",
       "2    James McAvoy, Anya Taylor-Joy, Haley Lu Richar...  2016   \n",
       "3    Matthew McConaughey,Reese Witherspoon, Seth Ma...  2016   \n",
       "4    Will Smith, Jared Leto, Margot Robbie, Viola D...  2016   \n",
       "..                                                 ...   ...   \n",
       "995  Chiwetel Ejiofor, Nicole Kidman, Julia Roberts...  2015   \n",
       "996  Lauren German, Heather Matarazzo, Bijou Philli...  2007   \n",
       "997  Robert Hoffman, Briana Evigan, Cassie Ventura,...  2008   \n",
       "998  Adam Pally, T.J. Miller, Thomas Middleditch,Sh...  2014   \n",
       "999  Kevin Spacey, Jennifer Garner, Robbie Amell,Ch...  2016   \n",
       "\n",
       "     Runtime (Minutes)  Rating   Votes  Revenue (Millions)  Metascore  \n",
       "0                  121     8.1  757074              333.13       76.0  \n",
       "1                  124     7.0  485820              126.46       65.0  \n",
       "2                  117     7.3  157606              138.12       62.0  \n",
       "3                  108     7.2   60545              270.32       59.0  \n",
       "4                  123     6.2  393727              325.02       40.0  \n",
       "..                 ...     ...     ...                 ...        ...  \n",
       "995                111     6.2   27585                 NaN       45.0  \n",
       "996                 94     5.5   73152               17.54       46.0  \n",
       "997                 98     6.2   70699               58.01       50.0  \n",
       "998                 93     5.6    4881                 NaN       22.0  \n",
       "999                 87     5.3   12435               19.64       11.0  \n",
       "\n",
       "[1000 rows x 12 columns]>"
      ]
     },
     "execution_count": 19,
     "metadata": {},
     "output_type": "execute_result"
    }
   ],
   "source": [
    "df.describe"
   ]
  },
  {
   "cell_type": "code",
   "execution_count": 20,
   "metadata": {},
   "outputs": [
    {
     "data": {
      "text/plain": [
       "Index(['Rank', 'Title', 'Genre', 'Description', 'Director', 'Actors', 'Year',\n",
       "       'Runtime (Minutes)', 'Rating', 'Votes', 'Revenue (Millions)',\n",
       "       'Metascore'],\n",
       "      dtype='object')"
      ]
     },
     "execution_count": 20,
     "metadata": {},
     "output_type": "execute_result"
    }
   ],
   "source": [
    "#show the columns\n",
    "\n",
    "df.columns"
   ]
  },
  {
   "cell_type": "code",
   "execution_count": 22,
   "metadata": {},
   "outputs": [
    {
     "data": {
      "text/plain": [
       "Index(['Rank', 'Title', 'Genre', 'Description', 'Director', 'Actors', 'Year',\n",
       "       'Runtime_Minutes', 'Rating', 'Votes', 'Revenue_Millions', 'Metascore'],\n",
       "      dtype='object')"
      ]
     },
     "execution_count": 22,
     "metadata": {},
     "output_type": "execute_result"
    }
   ],
   "source": [
    "# there was a blank in some columns. We removed them\n",
    "df.columns=[i.split()[0]+\"_\"+i.split()[1]  if len(i.split())>1 else i for i in df.columns]\n",
    "\n",
    "# and remove paranthesis\n",
    "df=df.rename(columns = {'Revenue_(Millions)':'Revenue_Millions'})\n",
    "df=df.rename(columns = {'Runtime_(Minutes)':'Runtime_Minutes'})\n",
    "\n",
    "df.columns"
   ]
  },
  {
   "cell_type": "code",
   "execution_count": null,
   "metadata": {},
   "outputs": [],
   "source": [
    "#histogram plot about number of published movies according to year\n",
    "\n",
    "df.Year.plot(kind = \"hist\", bins = 40, figsize = (9,6))\n",
    "plt.xlabel(\"Years\")\n",
    "plt.ylabel(\"Number of Movies\")\n",
    "plt.show()"
   ]
  },
  {
   "cell_type": "markdown",
   "metadata": {},
   "source": []
  },
  {
   "cell_type": "code",
   "execution_count": 23,
   "metadata": {},
   "outputs": [
    {
     "data": {
      "text/plain": [
       "Text(0, 0.5, 'Counts')"
      ]
     },
     "execution_count": 23,
     "metadata": {},
     "output_type": "execute_result"
    },
    {
     "data": {
      "image/png": "[encoded data removed]",
      "text/plain": [
       "<Figure size 1008x576 with 1 Axes>"
      ]
     },
     "metadata": {
      "needs_background": "light"
     },
     "output_type": "display_data"
    }
   ],
   "source": [
    "#histogtam runtimenya\n",
    "movies_time=df.Runtime_Minutes\n",
    "f,ax = plt.subplots(figsize=(14, 8))\n",
    "sea.distplot(movies_time, bins=20, kde=False,rug=True, ax=ax);\n",
    "plt.ylabel(\"Counts\")"
   ]
  },
  {
   "cell_type": "code",
   "execution_count": null,
   "metadata": {},
   "outputs": [],
   "source": []
  }
 ],
 "metadata": {
  "kernelspec": {
   "display_name": "Python 3",
   "language": "python",
   "name": "python3"
  },
  "language_info": {
   "codemirror_mode": {
    "name": "ipython",
    "version": 3
   },
   "file_extension": ".py",
   "mimetype": "text/x-python",
   "name": "python",
   "nbconvert_exporter": "python",
   "pygments_lexer": "ipython3",
   "version": "3.6.9"
  }
 },
 "nbformat": 4,
 "nbformat_minor": 4
}
